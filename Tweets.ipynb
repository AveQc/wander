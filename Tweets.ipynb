{
 "cells": [
  {
   "cell_type": "markdown",
   "id": "9c6254de-c1a1-4889-a765-60573f72c852",
   "metadata": {},
   "source": [
    "# Getting our data from Twitter API and cleaning it"
   ]
  },
  {
   "cell_type": "code",
   "execution_count": 1,
   "id": "72eda3e8-6236-4816-8304-bd1e82bd6638",
   "metadata": {},
   "outputs": [],
   "source": [
    "import requests\n",
    "import os\n",
    "import json\n",
    "import time\n",
    "import seaborn as sns\n",
    "import pandas as pd\n",
    "\n",
    "\n",
    "# To set your environment variables in your terminal run the following line:\n",
    "# export 'BEARER_TOKEN'='<your_bearer_token>'\n",
    "bearer_token = os. environ['BEARER_TOKEN']\n",
    "\n",
    "\n",
    "def bearer_oauth(r):\n",
    "    \"\"\"\n",
    "    Method required by bearer token authentication.\n",
    "    \"\"\"\n",
    "\n",
    "    r.headers[\"Authorization\"] = f\"Bearer {bearer_token}\"\n",
    "    r.headers[\"User-Agent\"] = \"v2UserTweetsPython\"\n",
    "    return r\n",
    "\n",
    "\n",
    "def connect_to_endpoint(url, params):\n",
    "    response = requests.request(\"GET\", url, auth=bearer_oauth, params=params)\n",
    "    print(response.status_code)\n",
    "    if response.status_code != 200:\n",
    "        raise Exception(\n",
    "            \"Request returned an error: {} {}\".format(\n",
    "                response.status_code, response.text\n",
    "            )\n",
    "        )\n",
    "    return response.json()\n",
    "\n",
    "\n",
    "def get_tweets(user_id, max_result=100, token = None):\n",
    "    url = f\"https://api.twitter.com/2/users/{user_id}/tweets\"\n",
    "    params = {'tweet.fields': 'public_metrics,created_at,in_reply_to_user_id,lang', 'max_results':max_result,'pagination_token': token}\n",
    "    response = connect_to_endpoint(url, params)\n",
    "    return response"
   ]
  },
  {
   "cell_type": "code",
   "execution_count": 2,
   "id": "4571b667-8db3-4800-bdd1-0a4303ec93ab",
   "metadata": {},
   "outputs": [
    {
     "name": "stdout",
     "output_type": "stream",
     "text": [
      "200\n",
      "next_token:7140dibdnow9c7btw4228p2yfcse70xye9nivwenk1f05\n",
      "200\n",
      "next_token:7140dibdnow9c7btw4228ipo81vw41dw3ce3ewi15bn04\n",
      "200\n",
      "next_token:7140dibdnow9c7btw421thedxfkyh98j6gjbaq07l9v01\n",
      "200\n",
      "next_token:7140dibdnow9c7btw421tf7jx0q0z1tyamu5cjq3nrbjk\n",
      "200\n",
      "next_token:7140dibdnow9c7btw421taxsygfwybav6tsfu1xyyjb5i\n",
      "200\n",
      "next_token:7140dibdnow9c7btw421t4lq925j53f4hsbosc6pk7cxe\n",
      "200\n",
      "next_token:7140dibdnow9c7btw421t2elm7f9xiv34kwvl9olku2pi\n",
      "200\n",
      "next_token:7140dibdnow9c7btw421edx5wnawhcxve1dbacs1l6hbr\n",
      "200\n",
      "next_token:7140dibdnow9c7btw421e9n4a6nqxdzz6keamlttthanq\n",
      "200\n",
      "next_token:7140dibdnow9c7btw421e7hsk1nsm1gskspdizol2ilo8\n",
      "200\n",
      "next_token:7140dibdnow9c7btw421e381dves197e52vqambjrywxe\n",
      "200\n",
      "next_token:7140dibdnow9c7btw421dwtk3xqswgvrvzvdkeqzt1yyh\n",
      "200\n",
      "next_token:7140dibdnow9c7btw420z88j1scnm1doqeqhcad3yj3na\n",
      "200\n",
      "next_token:7140dibdnow9c7btw420z1wqu5l2zroymhr3n0l9922ic\n",
      "200\n",
      "next_token:7140dibdnow9c7btw420ytcn98njgtx550t8pij6ovpdf\n",
      "200\n",
      "next_token:7140dibdnow9c7btw420k0jcw1agkakzd3feo7vlpljxy\n",
      "200\n",
      "next_token:7140dibdnow9c7btw420jpwmlp9x6zjh8i0vmjmg1o5ko\n",
      "200\n",
      "next_token:7140dibdnow9c7btw3z4kl5k59dw5mtlwlno5c70cfrqo\n",
      "200\n",
      "next_token:7140dibdnow9c7btw3z4keoouj2wmc5rt6ygmxwg5kh82\n",
      "200\n",
      "next_token:7140dibdnow9c7btw3z4k67kzr9q59brcq2rcygzvf6eq\n",
      "200\n",
      "next_token:7140dibdnow9c7btw3z45deao3dr41yri3zg1hjql5gs7\n",
      "200\n",
      "next_token:7140dibdnow9c7btw3z454uhr017tqv36rfe25mgpzz8x\n",
      "200\n",
      "next_token:7140dibdnow9c7btw3z3q9whj3hqbcqg1c3berqvnkcoh\n",
      "200\n",
      "next_token:7140dibdnow9c7btw3z3px3iun08s38zgyn9w096z83zo\n",
      "200\n",
      "next_token:7140dibdnow9c7btw3z3pqqueb1oicy90mmimkkxjxi5s\n",
      "200\n",
      "next_token:7140dibdnow9c7btw3z3b25igom7o8nev8idogr2iw7qo\n",
      "200\n",
      "next_token:7140dibdnow9c7btw3z3atni2kmg0k7847cra10p43dpu\n",
      "200\n",
      "next_token:7140dibdnow9c7btw3z3an9mr4gah8odaxxlrwp2ofupf\n",
      "200\n",
      "next_token:7140dibdnow9c7btw3z2vwkrtvk10jyiaqyh50nnim245\n",
      "200\n",
      "next_token:7140dibdnow9c7btw3z2vo1vbl68z8cmqbduweyar7ay8\n",
      "200\n",
      "next_token:7140dibdnow9c7btw3z2vhnzadp5arksgprl4vugnb1o2\n",
      "200\n",
      "next_token:7140dibdnow9c7btw3z2gou3idne7290va9imqoi6td14\n",
      "200\n",
      "no more data\n"
     ]
    }
   ],
   "source": [
    "flag = True #\n",
    "\n",
    "user_id = 44196397\n",
    "next_token = ''\n",
    "tweets = get_tweets(user_id)\n",
    "df = pd.json_normalize(tweets['data'])\n",
    "\n",
    "\n",
    "\n",
    "while flag:\n",
    "    if 'next_token' in tweets['meta']: # checking next token and geting more tweets\n",
    "        next_token = tweets['meta']['next_token']\n",
    "        print(f\"next_token:{next_token}\")\n",
    "        tweets = get_tweets(user_id, token = next_token)\n",
    "        if 'data' in tweets:\n",
    "            data =  pd.json_normalize(tweets['data'])\n",
    "            df = pd.concat([df, data])\n",
    "            time.sleep(1)# checking if there is data block in the responce\n",
    "        else:\n",
    "            flag = False\n",
    "            print('no more data')\n",
    "        \n",
    "        \n",
    "\n",
    "            \n",
    "        \n",
    "        "
   ]
  },
  {
   "cell_type": "code",
   "execution_count": 3,
   "id": "45a9321a-48f6-4506-8eaa-f4029cba4421",
   "metadata": {},
   "outputs": [
    {
     "data": {
      "text/plain": [
       "0"
      ]
     },
     "execution_count": 3,
     "metadata": {},
     "output_type": "execute_result"
    }
   ],
   "source": [
    "df.duplicated().sum() # checking our dataset on explicit duplicates"
   ]
  },
  {
   "cell_type": "code",
   "execution_count": 4,
   "id": "76312396-f707-4c32-887f-ca99c93d2c86",
   "metadata": {},
   "outputs": [],
   "source": [
    "df = df.rename(columns={'public_metrics.retweet_count':'retweet_count', 'public_metrics.reply_count':'reply_count', 'public_metrics.like_count':'like_count', 'public_metrics.quote_count':'quote_count' })"
   ]
  },
  {
   "cell_type": "code",
   "execution_count": 27,
   "id": "3325ae77-8ba7-420b-9c75-6835d33933e0",
   "metadata": {},
   "outputs": [
    {
     "name": "stderr",
     "output_type": "stream",
     "text": [
      "/home/lolerman/miniconda3/lib/python3.9/site-packages/pandas/core/arrays/datetimes.py:1162: UserWarning: Converting to PeriodArray/Index representation will drop timezone information.\n",
      "  warnings.warn(\n"
     ]
    }
   ],
   "source": [
    "df['date'] = pd.to_datetime(df['created_at']).dt.date # extracting date\n",
    "df['day_name'] = pd.to_datetime(df['created_at']).dt.day_name() #  extracting day_name\n",
    "month = pd.DatetimeIndex(df['created_at']).to_period('M') "
   ]
  },
  {
   "cell_type": "code",
   "execution_count": 6,
   "id": "444d0b81-0402-40ae-acdb-c18cdef695a8",
   "metadata": {},
   "outputs": [],
   "source": [
    "replace_list = ['zxx', 'qme', 'qam', 'tl', 'art', 'no', 'is', 'pl', 'bg', 'qst', 'ca', 'in', 'ro', 'eu', 'da', 'ht', 'hu', 'lt', 'tr', 'und'  ] # Replacing incorect langues values to 'und'\n",
    "df['lang'].replace(replace_list, 'undefined', inplace = True)"
   ]
  },
  {
   "cell_type": "code",
   "execution_count": 7,
   "id": "48d4be19-cc0e-46a2-bb91-bbad8d6e7d65",
   "metadata": {},
   "outputs": [
    {
     "data": {
      "text/html": [
       "<div>\n",
       "<style scoped>\n",
       "    .dataframe tbody tr th:only-of-type {\n",
       "        vertical-align: middle;\n",
       "    }\n",
       "\n",
       "    .dataframe tbody tr th {\n",
       "        vertical-align: top;\n",
       "    }\n",
       "\n",
       "    .dataframe thead th {\n",
       "        text-align: right;\n",
       "    }\n",
       "</style>\n",
       "<table border=\"1\" class=\"dataframe\">\n",
       "  <thead>\n",
       "    <tr style=\"text-align: right;\">\n",
       "      <th></th>\n",
       "      <th>text</th>\n",
       "      <th>id</th>\n",
       "      <th>created_at</th>\n",
       "      <th>in_reply_to_user_id</th>\n",
       "      <th>lang</th>\n",
       "      <th>retweet_count</th>\n",
       "      <th>reply_count</th>\n",
       "      <th>like_count</th>\n",
       "      <th>quote_count</th>\n",
       "      <th>date</th>\n",
       "      <th>day_name</th>\n",
       "    </tr>\n",
       "  </thead>\n",
       "  <tbody>\n",
       "    <tr>\n",
       "      <th>0</th>\n",
       "      <td>@NASASpaceflight Sub lightspeed is all that’s ...</td>\n",
       "      <td>1552325766213427202</td>\n",
       "      <td>2022-07-27T16:11:18.000Z</td>\n",
       "      <td>21292523</td>\n",
       "      <td>en</td>\n",
       "      <td>290</td>\n",
       "      <td>744</td>\n",
       "      <td>4353</td>\n",
       "      <td>58</td>\n",
       "      <td>2022-07-27</td>\n",
       "      <td>Wednesday</td>\n",
       "    </tr>\n",
       "  </tbody>\n",
       "</table>\n",
       "</div>"
      ],
      "text/plain": [
       "                                                text                   id  \\\n",
       "0  @NASASpaceflight Sub lightspeed is all that’s ...  1552325766213427202   \n",
       "\n",
       "                 created_at in_reply_to_user_id lang  retweet_count  \\\n",
       "0  2022-07-27T16:11:18.000Z            21292523   en            290   \n",
       "\n",
       "   reply_count  like_count  quote_count        date   day_name  \n",
       "0          744        4353           58  2022-07-27  Wednesday  "
      ]
     },
     "execution_count": 7,
     "metadata": {},
     "output_type": "execute_result"
    }
   ],
   "source": [
    "df.head(1)"
   ]
  },
  {
   "cell_type": "markdown",
   "id": "d72c4721-f41c-454f-91c4-97f7d615ac3b",
   "metadata": {},
   "source": [
    "# Analysing dataset"
   ]
  },
  {
   "cell_type": "markdown",
   "id": "6991dc33-a208-4d6c-b73f-5fa1911cce10",
   "metadata": {},
   "source": [
    "## Number of tweets by date"
   ]
  },
  {
   "cell_type": "code",
   "execution_count": 21,
   "id": "4b58495f-d017-407d-b459-1f8379e5159f",
   "metadata": {},
   "outputs": [],
   "source": [
    "import seaborn as sns\n",
    "import matplotlib.pyplot as plt\n",
    "\n",
    "sns.set(rc={'figure.figsize':(30,8.27)})"
   ]
  },
  {
   "cell_type": "code",
   "execution_count": 22,
   "id": "6d0e4a85-5639-44cc-9695-011525134892",
   "metadata": {},
   "outputs": [
    {
     "data": {
      "image/png": "[encoded data removed]",
      "text/plain": [
       "<Figure size 2160x595.44 with 1 Axes>"
      ]
     },
     "metadata": {},
     "output_type": "display_data"
    }
   ],
   "source": [
    "plot = sns.histplot(df['date'], bins=20, color ='darkgreen')\n",
    "plot.set(ylabel='Number of tweets');\n"
   ]
  },
  {
   "cell_type": "markdown",
   "id": "1fad7e3a-af48-412f-befb-9005090b36e9",
   "metadata": {},
   "source": [
    "## Number of tweets by weekday"
   ]
  },
  {
   "cell_type": "code",
   "execution_count": 10,
   "id": "2383c45e-6be2-4656-9d40-66834bde3afd",
   "metadata": {},
   "outputs": [
    {
     "data": {
      "image/png": "[encoded data removed]",
      "text/plain": [
       "<Figure size 720x595.44 with 1 Axes>"
      ]
     },
     "metadata": {},
     "output_type": "display_data"
    }
   ],
   "source": [
    "sns.set(rc={'figure.figsize':(10,8.27)})\n",
    "df['day_name'] = pd.Categorical(df['day_name'], ['Monday','Tuesday','Wednesday','Thursday', 'Friday', 'Saturday', 'Sunday'])\n",
    "plot = sns.histplot(df['day_name'], bins=20, color ='darkgreen')"
   ]
  },
  {
   "cell_type": "code",
   "execution_count": 36,
   "id": "2ed8e58b-2814-4d2f-aa28-4539797e233e",
   "metadata": {},
   "outputs": [
    {
     "data": {
      "text/plain": [
       "44196397               350\n",
       "30699048               144\n",
       "1016059981907386368    118\n",
       "1291945442             108\n",
       "1263491240336769026    104\n",
       "                      ... \n",
       "3496641                  1\n",
       "3360484437               1\n",
       "1166865149178699776      1\n",
       "3004231                  1\n",
       "3012789296               1\n",
       "Name: in_reply_to_user_id, Length: 775, dtype: int64"
      ]
     },
     "execution_count": 36,
     "metadata": {},
     "output_type": "execute_result"
    }
   ],
   "source": [
    "reply_counter = df['in_reply_to_user_id'].value_counts() # count reply by user\n",
    "reply_counter"
   ]
  },
  {
   "cell_type": "code",
   "execution_count": 11,
   "id": "a4b13c9a-09fb-4a00-ad77-82f06912dea6",
   "metadata": {},
   "outputs": [],
   "source": [
    "lang_counter = df['lang'].value_counts() # count language values\n"
   ]
  },
  {
   "cell_type": "code",
   "execution_count": 12,
   "id": "68fbbdaa-d469-4c26-904f-1151c3d54dc9",
   "metadata": {},
   "outputs": [
    {
     "data": {
      "text/plain": [
       "en           2563\n",
       "undefined     598\n",
       "fr             11\n",
       "de              7\n",
       "it              6\n",
       "es              4\n",
       "ru              4\n",
       "et              3\n",
       "pt              2\n",
       "ja              2\n",
       "Name: lang, dtype: int64"
      ]
     },
     "execution_count": 12,
     "metadata": {},
     "output_type": "execute_result"
    }
   ],
   "source": [
    "lang_counter # Used languages\n"
   ]
  },
  {
   "cell_type": "code",
   "execution_count": 13,
   "id": "16d8b829-7c31-48f5-a4aa-9217d82f5797",
   "metadata": {},
   "outputs": [
    {
     "data": {
      "text/plain": [
       "retweet_count     19453103\n",
       "like_count       220027803\n",
       "quote_count        2926213\n",
       "dtype: int64"
      ]
     },
     "execution_count": 13,
     "metadata": {},
     "output_type": "execute_result"
    }
   ],
   "source": [
    "df[['retweet_count', 'like_count', 'quote_count']].sum() # Total number of tweets, likes and quotes"
   ]
  },
  {
   "cell_type": "code",
   "execution_count": 14,
   "id": "8b56b5cb-1fad-46c5-b058-133af19b1daf",
   "metadata": {},
   "outputs": [
    {
     "data": {
      "text/plain": [
       "retweet_count     6079\n",
       "like_count       68758\n",
       "quote_count        914\n",
       "dtype: int64"
      ]
     },
     "execution_count": 14,
     "metadata": {},
     "output_type": "execute_result"
    }
   ],
   "source": [
    "df[['retweet_count', 'like_count', 'quote_count']].mean().astype(int) # counting mean number of retweets, likes and quotes"
   ]
  },
  {
   "cell_type": "code",
   "execution_count": 16,
   "id": "a7f545b3-6b18-46c9-9f64-91c5fd507122",
   "metadata": {},
   "outputs": [
    {
     "data": {
      "image/png": "[encoded data removed]",
      "text/plain": [
       "<Figure size 720x595.44 with 1 Axes>"
      ]
     },
     "metadata": {},
     "output_type": "display_data"
    }
   ],
   "source": [
    "pivot = pd.pivot_table(df, index=month, values = ['retweet_count', 'like_count', 'quote_count'], aggfunc='sum' )\n",
    "pl = pivot.plot(kind='bar', title='Number of reacts on tweets by month')\n",
    "pl.set(ylabel='number of reacts', xlabel='Month, Year');"
   ]
  },
  {
   "cell_type": "code",
   "execution_count": 19,
   "id": "d5e4d457-99a3-4af0-bc4e-c5eecb288e9b",
   "metadata": {},
   "outputs": [
    {
     "data": {
      "image/png": "[encoded data removed]",
      "text/plain": [
       "<Figure size 720x595.44 with 1 Axes>"
      ]
     },
     "metadata": {},
     "output_type": "display_data"
    }
   ],
   "source": [
    "pivot = pd.pivot_table(df, index=month, values = ['retweet_count', 'like_count', 'quote_count'], aggfunc='mean' )\n",
    "pl = pivot.plot(kind='bar', title='Mean number of reacts on tweets by month')\n",
    "pl.set(ylabel='number of reacts', xlabel='Month, Year');"
   ]
  },
  {
   "cell_type": "code",
   "execution_count": 30,
   "id": "fde51582-62ea-45c4-a0ea-d6125463854d",
   "metadata": {},
   "outputs": [],
   "source": [
    "mensions_counter = df.text.apply(lambda x: pd.value_counts(x.split(\" \"))).sum(axis = 0).sort_values(ascending=False)"
   ]
  },
  {
   "cell_type": "code",
   "execution_count": 32,
   "id": "542b3819-db1e-4a3f-b24f-1645ccbba524",
   "metadata": {},
   "outputs": [
    {
     "data": {
      "text/plain": [
       "@BillyM2k         184\n",
       "@WholeMarsBlog    183\n",
       "@teslaownersSV    163\n",
       "@PPathole         143\n",
       "@SpaceX           100\n",
       "@SpaceX:           89\n",
       "@Tesla             83\n",
       "@SawyerMerritt     76\n",
       "@Rainmaker1973     58\n",
       "@EvaFoxU           57\n",
       "dtype: int64"
      ]
     },
     "execution_count": 32,
     "metadata": {},
     "output_type": "execute_result"
    }
   ],
   "source": [
    "mensions_counter[mensions_counter.index.str.contains('@', regex= True, na=False)].head(10).astype(int) # Top 10 most most frequent mentions "
   ]
  },
  {
   "cell_type": "code",
   "execution_count": 28,
   "id": "8c01942e-6215-464a-8ff1-35345f832a38",
   "metadata": {},
   "outputs": [
    {
     "data": {
      "text/plain": [
       "78.085625"
      ]
     },
     "execution_count": 28,
     "metadata": {},
     "output_type": "execute_result"
    }
   ],
   "source": [
    "df['text'].apply(len).mean() # mean lenth of tweets"
   ]
  },
  {
   "cell_type": "markdown",
   "id": "3aa9482b-3cfb-49e8-a9b9-f11407a61d83",
   "metadata": {},
   "source": [
    "# Summary\n"
   ]
  },
  {
   "cell_type": "markdown",
   "id": "b848bb01-3acd-4ea6-b5c5-570d48d78762",
   "metadata": {},
   "source": [
    "### Conclusions after analysing Elons last 3200  messages:\n",
    "    * Mean tweet consists of 78 symbols and has 6079 retweets, 68758 likes and 914 quotes \n",
    "    * Elon posted up to 42 posts per day\n",
    "    * Elon posting frequency doesn't depend on the day of the week\n",
    "    * Most of the tweets are writen in english, but there are few in french, italian, deuch and russian \n",
    "    * Top 10 mosts frequent mentions are \n",
    "        @BillyM2k         184\n",
    "        @WholeMarsBlog    183\n",
    "        @teslaownersSV    163\n",
    "        @PPathole         143\n",
    "        @SpaceX           100\n",
    "        @SpaceX:           89\n",
    "        @Tesla             83\n",
    "        @SawyerMerritt     76\n",
    "        @Rainmaker1973     58\n",
    "        @EvaFoxU           57"
   ]
  },
  {
   "cell_type": "code",
   "execution_count": null,
   "id": "add9f219-836b-49cc-a0db-723122d1e020",
   "metadata": {},
   "outputs": [],
   "source": []
  }
 ],
 "metadata": {
  "kernelspec": {
   "display_name": "Python 3 (ipykernel)",
   "language": "python",
   "name": "python3"
  },
  "language_info": {
   "codemirror_mode": {
    "name": "ipython",
    "version": 3
   },
   "file_extension": ".py",
   "mimetype": "text/x-python",
   "name": "python",
   "nbconvert_exporter": "python",
   "pygments_lexer": "ipython3",
   "version": "3.9.7"
  }
 },
 "nbformat": 4,
 "nbformat_minor": 5
}
